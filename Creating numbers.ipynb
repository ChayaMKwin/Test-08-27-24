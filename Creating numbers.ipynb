{
 "cells": [
  {
   "cell_type": "code",
   "execution_count": 1,
   "metadata": {},
   "outputs": [],
   "source": [
    "# Se nao foi installado, remove o '#' para installar o package:\n",
    "# !pip install pandas"
   ]
  },
  {
   "cell_type": "code",
   "execution_count": 2,
   "metadata": {
    "editable": true,
    "slideshow": {
     "slide_type": ""
    },
    "tags": []
   },
   "outputs": [],
   "source": [
    "# import packages\n",
    "import random\n",
    "import pandas as pd"
   ]
  },
  {
   "cell_type": "markdown",
   "metadata": {},
   "source": [
    "### Task 1 - Escreva um programa em python que grave 1 milhão de linhas em um arquivo texto. Cada linha deve conter um inteiro, aleatório, com um range entre 0 e 1 milhão."
   ]
  },
  {
   "cell_type": "code",
   "execution_count": 3,
   "metadata": {},
   "outputs": [],
   "source": [
    "# definir o numero maximo do range. (para testar, pode colocar numeros menores)\n",
    "rows = 1000000"
   ]
  },
  {
   "cell_type": "code",
   "execution_count": 4,
   "metadata": {},
   "outputs": [
    {
     "name": "stdout",
     "output_type": "stream",
     "text": [
      "100000 números criados.\n",
      "200000 números criados.\n",
      "300000 números criados.\n",
      "400000 números criados.\n",
      "500000 números criados.\n",
      "600000 números criados.\n",
      "700000 números criados.\n",
      "800000 números criados.\n",
      "900000 números criados.\n",
      "1000000 números criados.\n",
      "File ready\n"
     ]
    }
   ],
   "source": [
    "# Escrever em file (se o file nao existe vai create um novo file)\n",
    "#Task_1_file = 'random_numbers(Task1).txt'\n",
    "\n",
    "with open ('random_numbers(task_1).txt', 'w') as T1:\n",
    "\n",
    "    # O processo de escolher um numero random, acontecera x vezes - de acordo com o numero acima(no caso, 1 milhao).\n",
    "    for x in range(rows):\n",
    "        num = random.randint(0, rows)\n",
    "        #escreve o numero no file com um 'new line' para a proxima linha.\n",
    "        T1.write(f\"{num}\\n\")\n",
    "    \n",
    "        if (x + 1) % 100000 == 0:\n",
    "            print(f\"{x + 1} números criados.\")\n",
    "\n",
    "        \n",
    "\n",
    "print('File ready')"
   ]
  },
  {
   "cell_type": "markdown",
   "metadata": {},
   "source": [
    "### Task 2- Escreva um programa em python que conte o número de ocorrências que cada um dos números apareceu no arquivo acima, e grave em um novo arquivo texto no formato: \"número|ocorrências. Ou seja, se o número \"10\" for aparecer em \"5\" linhas, você deverá gravar \"10|5\"."
   ]
  },
  {
   "cell_type": "code",
   "execution_count": 5,
   "metadata": {},
   "outputs": [
    {
     "data": {
      "text/plain": [
       "0     \n",
       "681308    8\n",
       "498478    8\n",
       "322494    8\n",
       "765731    8\n",
       "501504    8\n",
       "         ..\n",
       "421636    1\n",
       "421635    1\n",
       "421631    1\n",
       "421630    1\n",
       "500131    1\n",
       "Name: count, Length: 632146, dtype: int64"
      ]
     },
     "execution_count": 5,
     "metadata": {},
     "output_type": "execute_result"
    }
   ],
   "source": [
    "# Abre o file de Task 1\n",
    "n = pd.read_csv('random_numbers(task_1).txt', header=None).dropna()\n",
    "# Conta o ocorrência de cada numero\n",
    "nc = n.value_counts()\n",
    "# Escreve no file em formato: \"número|ocorrências\"\n",
    "nc.to_csv('numeros_contados(task_2).txt', header=False, sep='|')\n",
    "# Mostrar aqui so para vizualizar - no file esta no formato correto.\n",
    "nc"
   ]
  },
  {
   "cell_type": "markdown",
   "metadata": {},
   "source": [
    "### Task 3 - Qual foi o número que apareceu mais vezes? E por que você acha que há tantas repetições (ou não) ?"
   ]
  },
  {
   "cell_type": "code",
   "execution_count": 6,
   "metadata": {},
   "outputs": [
    {
     "name": "stdout",
     "output_type": "stream",
     "text": [
      "Resposta: O(s) numero(s) q aparece(ram) mais vezes\n",
      "681308\n",
      "498478\n",
      "322494\n",
      "765731\n",
      "501504\n",
      "953845\n",
      "271570\n",
      "366831\n",
      "905386\n",
      "392253\n",
      "405577\n",
      "652738\n",
      "963940\n",
      "917305\n",
      "Foram repitidos 8 vezes.\n",
      "\n",
      "Por que você acha que há tantas repetições (ou não)?\n",
      "\n",
      "Primeiramente, Pedindo numeros aleatorios, não garante evitar repetições.\n",
      "Alem disso, quando sorteando numeros aleatorios, quanto maior a quantidade \n",
      "de numero sorteado e/ou perto do end point do range dado, maior e a probabilidade de ter numeros reptidos.\n",
      "*Se a quantidade de numeros sorteados eh maior que o range, seria certeza, não probabilidade\n"
     ]
    }
   ],
   "source": [
    "# Numero maximo de repeticoes. converter para string (pois as linhas estam gravados como str)\n",
    "max_repeticoes = str(max(nc)) \n",
    "\n",
    "# Abre file de Task 2\n",
    "with open('numeros_contados(task_2).txt', 'r') as count_nums:\n",
    "    print('Resposta: O(s) numero(s) q aparece(ram) mais vezes')\n",
    "    for line in count_nums:\n",
    "        # Separa no '|' para usar o segundo valor(counts)\n",
    "        part = line.strip().split('|')\n",
    "        # Dar o(s) numero(s) que termina(m) com o maior numero de repeticao ('max_repeticoes')\n",
    "        if len(part) > 1 and part[1] == max_repeticoes:\n",
    "          print(line.split('|')[0])\n",
    "\n",
    "    print(f'Foram repitidos {max_repeticoes} vezes.\\n')\n",
    "\n",
    "    # Resposta Para: \"por que você acha que há tantas repetições (ou não)?\"\n",
    "    print('Por que você acha que há tantas repetições (ou não)?\\n')\n",
    "    print('Primeiramente, Pedindo numeros aleatorios, não garante evitar repetições.')\n",
    "    print('Alem disso, quando sorteando numeros aleatorios, quanto maior a quantidade \\nde numero sorteado e/ou perto do end point do range dado, maior e a probabilidade de ter numeros reptidos.')\n",
    "    print('*Se a quantidade de numeros sorteados eh maior que o range, seria certeza, não probabilidade')"
   ]
  },
  {
   "cell_type": "markdown",
   "metadata": {},
   "source": [
    "### Task 4 - Grave um arquivo texto que ordena os números pela quantidade de vezes que ele apareceu de forma repetida, de forma decrescente. Ou seja, do maior, para o menor. Se um número tiver o mesmo número de repetições, a ordem deverá ser o maior número."
   ]
  },
  {
   "cell_type": "code",
   "execution_count": 7,
   "metadata": {},
   "outputs": [],
   "source": [
    "# Abre arquivo do Task 2(numero|count)\n",
    "with open('numeros_contados(task_2).txt', 'r') as file:\n",
    "    # Separa cadaa linha no '|'\n",
    "     num_and_count = [line.split('|') for line in file] \n",
    "\n",
    "# usar lambda para ordenar por primeiro por 'count'(x[1]) e depois por 'numero'(x[2]) \n",
    "num_and_count  = reversed(sorted(num_and_count , key=lambda x: (int(x[1]), int(x[0]))))\n",
    "\n",
    "# Escreve no file o resultado acima\n",
    "with open('numeros_ordenados(task_4).txt', 'w') as file:\n",
    "    for number in num_and_count :\n",
    "        file.write(f'{\"|\".join(number)}')\n"
   ]
  }
 ],
 "metadata": {
  "kernelspec": {
   "display_name": "Python 3",
   "language": "python",
   "name": "python3"
  },
  "language_info": {
   "codemirror_mode": {
    "name": "ipython",
    "version": 3
   },
   "file_extension": ".py",
   "mimetype": "text/x-python",
   "name": "python",
   "nbconvert_exporter": "python",
   "pygments_lexer": "ipython3",
   "version": "3.12.2"
  },
  "toc": {
   "base_numbering": -1
  }
 },
 "nbformat": 4,
 "nbformat_minor": 4
}
